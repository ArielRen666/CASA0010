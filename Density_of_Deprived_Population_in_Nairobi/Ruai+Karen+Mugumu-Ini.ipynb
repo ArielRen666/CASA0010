{
 "cells": [
  {
   "cell_type": "code",
   "execution_count": null,
   "id": "0d1e2873-4d60-447d-83f4-bb747808f268",
   "metadata": {},
   "outputs": [],
   "source": [
    "import geopandas as gpd\n",
    "\n",
    "# Reproject to a suitable projected coordinate system (e.g., UTM)\n",
    "gdf_projected = gdf.to_crs(epsg=32637)  # Use the EPSG code suitable for your area; here, UTM Zone 37N is used\n",
    "\n",
    "# Calculate the area of each region (in square meters)\n",
    "gdf_projected['area'] = gdf_projected['geometry'].area\n",
    "\n",
    "# Drop the existing 'area' column in merged_gdf if it exists to avoid conflict\n",
    "if 'area' in merged_gdf.columns:\n",
    "    merged_gdf = merged_gdf.drop(columns=['area'])\n",
    "\n",
    "# Merge the projected areas into the merged_gdf\n",
    "merged_gdf = merged_gdf.merge(gdf_projected[['GID_3', 'area']], on='GID_3', how='left')\n",
    "\n",
    "# Check and print the area of the 'Ruai' region\n",
    "Ruai_area = merged_gdf[merged_gdf['NAME_3_x'] == 'Ruai']\n",
    "\n",
    "\n",
    "# Ensure that the 'Ruai' region was found\n",
    "if not Ruai_area.empty:\n",
    "    print(f\"The area of 'Ruai' is: {Ruai_area['area'].values[0]} square meters\")\n",
    "else:\n",
    "    print(\"No area found for 'Ruai' in the 'NAME_3' column.\")"
   ]
  },
  {
   "cell_type": "code",
   "execution_count": null,
   "id": "6120d6c8-ae33-41e5-8f04-4769adebec64",
   "metadata": {},
   "outputs": [],
   "source": [
    "import geopandas as gpd\n",
    "import matplotlib.pyplot as plt\n",
    "\n",
    "Ruai_shape = merged_gdf[merged_gdf['NAME_3_x'] == 'Ruai']\n",
    "Karen_shape = merged_gdf[merged_gdf['NAME_3_x'] == 'Karen']\n",
    "Mugumu_Ini_shape = merged_gdf[merged_gdf['NAME_3_x'] == 'Mugumu-Ini']\n",
    "\n",
    "if not Ruai_shape.empty:\n",
    "    fig, ax = plt.subplots(figsize=(10, 10))\n",
    "    Ruai_shape.plot(ax=ax, edgecolor='black', color='orange')\n",
    "    Karen_shape.plot(ax=ax, edgecolor='black', color='lightgreen')\n",
    "    Mugumu_Ini_shape.plot(ax=ax, edgecolor='black', color='lightblue')\n",
    "    \n",
    "    ax.set_title('Shape of Ruai & Karen & Mugumu_Ini', fontsize=16)\n",
    "    ax.axis('off') \n",
    "    \n",
    "    plt.show()\n",
    "else:\n",
    "    print(\"No area found for 'Ruai & Karen & Mugumu_Ini' in the 'NAME_3' column.\")"
   ]
  }
 ],
 "metadata": {
  "kernelspec": {
   "display_name": "Python 3 (ipykernel)",
   "language": "python",
   "name": "python3"
  },
  "language_info": {
   "codemirror_mode": {
    "name": "ipython",
    "version": 3
   },
   "file_extension": ".py",
   "mimetype": "text/x-python",
   "name": "python",
   "nbconvert_exporter": "python",
   "pygments_lexer": "ipython3",
   "version": "3.11.5"
  }
 },
 "nbformat": 4,
 "nbformat_minor": 5
}
