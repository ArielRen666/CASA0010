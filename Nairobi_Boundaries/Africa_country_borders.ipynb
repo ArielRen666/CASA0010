{
 "cells": [
  {
   "cell_type": "code",
   "execution_count": 1,
   "id": "f6b7234a-b3c3-4127-8c28-0c268ecb065a",
   "metadata": {},
   "outputs": [
    {
     "name": "stderr",
     "output_type": "stream",
     "text": [
      "/tmp/ipykernel_30071/3331807242.py:4: FutureWarning: The geopandas.dataset module is deprecated and will be removed in GeoPandas 1.0. You can get the original 'naturalearth_lowres' data from https://www.naturalearthdata.com/downloads/110m-cultural-vectors/.\n",
      "  world = gpd.read_file(gpd.datasets.get_path('naturalearth_lowres'))\n"
     ]
    },
    {
     "name": "stdout",
     "output_type": "stream",
     "text": [
      "非洲的国界线已成功导出到: africa_country_borders.shp\n"
     ]
    }
   ],
   "source": [
    "import geopandas as gpd\n",
    "\n",
    "# 加载世界地图数据\n",
    "world = gpd.read_file(gpd.datasets.get_path('naturalearth_lowres'))\n",
    "\n",
    "# 筛选出非洲大陆的数据\n",
    "africa = world[world['continent'] == 'Africa']\n",
    "\n",
    "# 导出非洲的边界线为Shapefile格式\n",
    "output_path = \"africa_country_borders.shp\"\n",
    "africa.to_file(output_path, driver='ESRI Shapefile')\n",
    "\n",
    "print(f\"非洲的国界线已成功导出到: {output_path}\")\n"
   ]
  }
 ],
 "metadata": {
  "kernelspec": {
   "display_name": "Python 3 (ipykernel)",
   "language": "python",
   "name": "python3"
  },
  "language_info": {
   "codemirror_mode": {
    "name": "ipython",
    "version": 3
   },
   "file_extension": ".py",
   "mimetype": "text/x-python",
   "name": "python",
   "nbconvert_exporter": "python",
   "pygments_lexer": "ipython3",
   "version": "3.11.5"
  }
 },
 "nbformat": 4,
 "nbformat_minor": 5
}
